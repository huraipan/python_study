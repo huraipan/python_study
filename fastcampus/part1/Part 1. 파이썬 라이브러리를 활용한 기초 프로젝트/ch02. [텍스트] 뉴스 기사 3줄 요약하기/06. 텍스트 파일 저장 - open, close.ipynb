{
 "cells": [
  {
   "cell_type": "markdown",
   "metadata": {
    "pycharm": {
     "name": "#%% md\n"
    }
   },
   "source": [
    "# **Chapter 2. [텍스트] 뉴스기사 3줄 요약하기**\n",
    "\n",
    "\n",
    "---\n",
    "### 📝 **학습 목차**\n",
    "> 2-1. 프로젝트 개요 <br>\n",
    "> 2-2. 바이너리 파일을 문자열로 변경 - base64 <br>\n",
    "> 2-3. 문자열 다루기 - textwrap, re <br>\n",
    "> 2-4. 단어 개수 구하기 - collections.Counter** <br>\n",
    "> 2-5. 문서 요약하기 - gensim <br>\n",
    "> **2-6. 텍스트 파일 저장 - open, close** <br>\n",
    "> 2-7. 프로젝트 실습"
   ]
  },
  {
   "cell_type": "markdown",
   "metadata": {
    "pycharm": {
     "name": "#%% md\n"
    }
   },
   "source": [
    "## 2-6. 텍스트 파일 저장"
   ]
  },
  {
   "cell_type": "markdown",
   "metadata": {
    "pycharm": {
     "name": "#%% md\n"
    }
   },
   "source": [
    "### 2-6-1. open, close"
   ]
  },
  {
   "cell_type": "markdown",
   "metadata": {
    "pycharm": {
     "name": "#%% md\n"
    }
   },
   "source": [
    "> 파일 객체 = open(파일 이름, 파일 열기 모드) <br>\n",
    "> 파일 객체.close()"
   ]
  },
  {
   "cell_type": "markdown",
   "metadata": {
    "pycharm": {
     "name": "#%% md\n"
    }
   },
   "source": [
    "| 파일열기모드 | 설명                                                       |\n",
    "|--------------|------------------------------------------------------------|\n",
    "| r            | 읽기모드 - 파일을 읽기만 할 때 사용                        |\n",
    "| w            | 쓰기모드 - 파일에 내용을 쓸 때 사용                        |\n",
    "| a            | 추가모드 - 파일의 마지막에 새로운 내용을 추가 시킬 때 사용 |"
   ]
  },
  {
   "cell_type": "markdown",
   "metadata": {
    "pycharm": {
     "name": "#%% md\n"
    }
   },
   "source": [
    "#### 파일 생성"
   ]
  },
  {
   "cell_type": "code",
   "execution_count": 1,
   "metadata": {
    "pycharm": {
     "name": "#%%\n"
    }
   },
   "outputs": [],
   "source": [
    "# 텍스트 파일 생성\n",
    "f = open(\"새파일.txt\", 'w')\n",
    "f.close()"
   ]
  },
  {
   "cell_type": "markdown",
   "metadata": {
    "pycharm": {
     "name": "#%% md\n"
    }
   },
   "source": [
    "#### 파일 쓰기"
   ]
  },
  {
   "cell_type": "code",
   "execution_count": 8,
   "metadata": {
    "pycharm": {
     "name": "#%%\n"
    }
   },
   "outputs": [],
   "source": [
    "# 텍스트 파일 쓰기\n",
    "f = open(\"새파일.txt\", 'w')\n",
    "for i in range(1, 11):\n",
    "    data = \"%dline.\\n\" % i\n",
    "    f.write(data)\n",
    "f.close()"
   ]
  },
  {
   "cell_type": "markdown",
   "metadata": {
    "pycharm": {
     "name": "#%% md\n"
    }
   },
   "source": [
    "#### 파일 읽기"
   ]
  },
  {
   "cell_type": "code",
   "execution_count": 4,
   "metadata": {
    "pycharm": {
     "name": "#%%\n"
    }
   },
   "outputs": [
    {
     "name": "stdout",
     "output_type": "stream",
     "text": [
      "1line.\n",
      "\n"
     ]
    }
   ],
   "source": [
    "# 한줄 읽기\n",
    "f = open(\"새파일.txt\", 'r')\n",
    "line = f.readline()\n",
    "print(line)\n",
    "f.close()"
   ]
  },
  {
   "cell_type": "code",
   "execution_count": 5,
   "metadata": {
    "pycharm": {
     "name": "#%%\n"
    }
   },
   "outputs": [
    {
     "name": "stdout",
     "output_type": "stream",
     "text": [
      "1line.\n",
      "\n",
      "2line.\n",
      "\n",
      "3line.\n",
      "\n"
     ]
    }
   ],
   "source": [
    "# 여러줄 읽기\n",
    "f = open(\"새파일.txt\", 'r')\n",
    "line = f.readline()\n",
    "print(line)\n",
    "line = f.readline()\n",
    "print(line)\n",
    "line = f.readline()\n",
    "print(line)\n",
    "f.close()"
   ]
  },
  {
   "cell_type": "code",
   "execution_count": 10,
   "metadata": {
    "pycharm": {
     "name": "#%%\n"
    }
   },
   "outputs": [
    {
     "name": "stdout",
     "output_type": "stream",
     "text": [
      "1line.\n",
      "\n",
      "2line.\n",
      "\n",
      "3line.\n",
      "\n",
      "4line.\n",
      "\n",
      "5line.\n",
      "\n",
      "6line.\n",
      "\n",
      "7line.\n",
      "\n",
      "8line.\n",
      "\n",
      "9line.\n",
      "\n",
      "10line.\n",
      "\n",
      "11line.\n",
      "\n",
      "12line.\n",
      "\n",
      "13line.\n",
      "\n",
      "14line.\n",
      "\n",
      "15line.\n",
      "\n",
      "16line.\n",
      "\n",
      "17line.\n",
      "\n",
      "18line.\n",
      "\n",
      "19line.\n",
      "\n",
      "20line.\n",
      "\n"
     ]
    }
   ],
   "source": [
    "# 모든 줄 읽기\n",
    "f = open(\"새파일.txt\", 'r')\n",
    "lines = f.readlines()\n",
    "for line in lines:\n",
    "    print(line)\n",
    "f.close()"
   ]
  },
  {
   "cell_type": "markdown",
   "metadata": {
    "pycharm": {
     "name": "#%% md\n"
    }
   },
   "source": [
    "#### 내용 추가하기"
   ]
  },
  {
   "cell_type": "code",
   "execution_count": 7,
   "metadata": {
    "pycharm": {
     "name": "#%%\n"
    }
   },
   "outputs": [],
   "source": [
    "# w 모드 사용 시\n",
    "f = open(\"새파일.txt\",'w')\n",
    "for i in range(11, 21):\n",
    "    data = \"%dline.\\n\" % i\n",
    "    f.write(data)\n",
    "f.close()"
   ]
  },
  {
   "cell_type": "code",
   "execution_count": 9,
   "metadata": {
    "pycharm": {
     "name": "#%%\n"
    }
   },
   "outputs": [],
   "source": [
    "# a 모드 사용 시\n",
    "f = open(\"새파일.txt\",'a')\n",
    "for i in range(11, 21):\n",
    "    data = \"%dline.\\n\" % i\n",
    "    f.write(data)\n",
    "f.close()"
   ]
  },
  {
   "cell_type": "markdown",
   "metadata": {
    "pycharm": {
     "name": "#%% md\n"
    }
   },
   "source": [
    "#### with 문 사용"
   ]
  },
  {
   "cell_type": "code",
   "execution_count": 11,
   "metadata": {
    "pycharm": {
     "name": "#%%\n"
    }
   },
   "outputs": [],
   "source": [
    "# close() 사용 불필요\n",
    "with open(\"새파일.txt\", \"w\") as f:\n",
    "    for i in range(1, 11):\n",
    "        data = \"%d번째 줄입니다.\\n\" % i\n",
    "        f.write(data)"
   ]
  },
  {
   "cell_type": "code",
   "execution_count": null,
   "metadata": {
    "pycharm": {
     "name": "#%%\n"
    }
   },
   "outputs": [],
   "source": []
  }
 ],
 "metadata": {
  "kernelspec": {
   "display_name": "fastcapus",
   "language": "python",
   "name": "fastcampus"
  },
  "language_info": {
   "codemirror_mode": {
    "name": "ipython",
    "version": 3
   },
   "file_extension": ".py",
   "mimetype": "text/x-python",
   "name": "python",
   "nbconvert_exporter": "python",
   "pygments_lexer": "ipython3",
   "version": "3.10.9"
  }
 },
 "nbformat": 4,
 "nbformat_minor": 4
}
